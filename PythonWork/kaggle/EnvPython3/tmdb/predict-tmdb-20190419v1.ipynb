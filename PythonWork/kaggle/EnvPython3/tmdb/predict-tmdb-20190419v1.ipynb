{
 "cells": [
  {
   "cell_type": "code",
   "execution_count": 1,
   "metadata": {
    "_cell_guid": "b1076dfc-b9ad-4769-8c92-a6c4dae69d19",
    "_uuid": "8f2839f25d086af736a60e9eeb907d3b93b6e0e5"
   },
   "outputs": [
    {
     "name": "stdout",
     "output_type": "stream",
     "text": [
      "['test.csv', 'train.csv', 'sample_submission.csv']\n"
     ]
    }
   ],
   "source": [
    "# This Python 3 environment comes with many helpful analytics libraries installed\n",
    "# It is defined by the kaggle/python docker image: https://github.com/kaggle/docker-python\n",
    "# For example, here's several helpful packages to load in \n",
    "\n",
    "import numpy as np # linear algebra\n",
    "import pandas as pd # data processing, CSV file I/O (e.g. pd.read_csv)\n",
    "\n",
    "# Input data files are available in the \"../input/\" directory.\n",
    "# For example, running this (by clicking run or pressing Shift+Enter) will list the files in the input directory\n",
    "\n",
    "import os\n",
    "print(os.listdir(\"../input\"))\n",
    "\n",
    "# Any results you write to the current directory are saved as output."
   ]
  },
  {
   "cell_type": "code",
   "execution_count": 2,
   "metadata": {},
   "outputs": [
    {
     "name": "stdout",
     "output_type": "stream",
     "text": [
      "   id    ...      revenue\n",
      "0   1    ...     12314651\n",
      "1   2    ...     95149435\n",
      "2   3    ...     13092000\n",
      "3   4    ...     16000000\n",
      "4   5    ...      3923970\n",
      "\n",
      "[5 rows x 23 columns]\n",
      "Index(['id', 'belongs_to_collection', 'budget', 'genres', 'homepage',\n",
      "       'imdb_id', 'original_language', 'original_title', 'overview',\n",
      "       'popularity', 'poster_path', 'production_companies',\n",
      "       'production_countries', 'release_date', 'runtime', 'spoken_languages',\n",
      "       'status', 'tagline', 'title', 'Keywords', 'cast', 'crew', 'revenue'],\n",
      "      dtype='object')\n",
      "Index(['id', 'belongs_to_collection', 'budget', 'genres', 'homepage',\n",
      "       'imdb_id', 'original_language', 'original_title', 'overview',\n",
      "       'popularity', 'poster_path', 'production_companies',\n",
      "       'production_countries', 'release_date', 'runtime', 'spoken_languages',\n",
      "       'status', 'tagline', 'title', 'Keywords', 'cast', 'crew'],\n",
      "      dtype='object')\n"
     ]
    }
   ],
   "source": [
    "train_data = pd.read_csv('../input/train.csv')\n",
    "test_data = pd.read_csv('../input/test.csv')\n",
    "print (train_data.head())\n",
    "print (train_data.columns)\n",
    "print (test_data.columns)"
   ]
  },
  {
   "cell_type": "code",
   "execution_count": 3,
   "metadata": {},
   "outputs": [
    {
     "name": "stdout",
     "output_type": "stream",
     "text": [
      "(3000, 23)\n",
      "<class 'pandas.core.frame.DataFrame'>\n",
      "RangeIndex: 3000 entries, 0 to 2999\n",
      "Data columns (total 23 columns):\n",
      "id                       3000 non-null int64\n",
      "belongs_to_collection    604 non-null object\n",
      "budget                   3000 non-null int64\n",
      "genres                   2993 non-null object\n",
      "homepage                 946 non-null object\n",
      "imdb_id                  3000 non-null object\n",
      "original_language        3000 non-null object\n",
      "original_title           3000 non-null object\n",
      "overview                 2992 non-null object\n",
      "popularity               3000 non-null float64\n",
      "poster_path              2999 non-null object\n",
      "production_companies     2844 non-null object\n",
      "production_countries     2945 non-null object\n",
      "release_date             3000 non-null object\n",
      "runtime                  2998 non-null float64\n",
      "spoken_languages         2980 non-null object\n",
      "status                   3000 non-null object\n",
      "tagline                  2403 non-null object\n",
      "title                    3000 non-null object\n",
      "Keywords                 2724 non-null object\n",
      "cast                     2987 non-null object\n",
      "crew                     2984 non-null object\n",
      "revenue                  3000 non-null int64\n",
      "dtypes: float64(2), int64(3), object(18)\n",
      "memory usage: 539.1+ KB\n",
      "None\n"
     ]
    }
   ],
   "source": [
    "print (train_data.shape)\n",
    "print (train_data.info())"
   ]
  },
  {
   "cell_type": "code",
   "execution_count": 4,
   "metadata": {
    "_cell_guid": "79c7e3d0-c299-4dcb-8224-4455121ee9b0",
    "_uuid": "d629ff2d2480ee46fbb7e2d37f6b5fab8052498a"
   },
   "outputs": [
    {
     "name": "stdout",
     "output_type": "stream",
     "text": [
      "                id        budget      ...           runtime       revenue\n",
      "count  3000.000000  3.000000e+03      ...       2998.000000  3.000000e+03\n",
      "mean   1500.500000  2.253133e+07      ...        107.856571  6.672585e+07\n",
      "std     866.169729  3.702609e+07      ...         22.086434  1.375323e+08\n",
      "min       1.000000  0.000000e+00      ...          0.000000  1.000000e+00\n",
      "25%     750.750000  0.000000e+00      ...         94.000000  2.379808e+06\n",
      "50%    1500.500000  8.000000e+06      ...        104.000000  1.680707e+07\n",
      "75%    2250.250000  2.900000e+07      ...        118.000000  6.891920e+07\n",
      "max    3000.000000  3.800000e+08      ...        338.000000  1.519558e+09\n",
      "\n",
      "[8 rows x 5 columns]\n"
     ]
    }
   ],
   "source": [
    "print (train_data.describe())"
   ]
  },
  {
   "cell_type": "code",
   "execution_count": 5,
   "metadata": {},
   "outputs": [
    {
     "name": "stdout",
     "output_type": "stream",
     "text": [
      "id                          0\n",
      "belongs_to_collection    2396\n",
      "budget                      0\n",
      "genres                      7\n",
      "homepage                 2054\n",
      "imdb_id                     0\n",
      "original_language           0\n",
      "original_title              0\n",
      "overview                    8\n",
      "popularity                  0\n",
      "poster_path                 1\n",
      "production_companies      156\n",
      "production_countries       55\n",
      "release_date                0\n",
      "runtime                     2\n",
      "spoken_languages           20\n",
      "status                      0\n",
      "tagline                   597\n",
      "title                       0\n",
      "Keywords                  276\n",
      "cast                       13\n",
      "crew                       16\n",
      "revenue                     0\n",
      "dtype: int64\n"
     ]
    }
   ],
   "source": [
    "print (train_data.isnull().sum())"
   ]
  },
  {
   "cell_type": "code",
   "execution_count": 6,
   "metadata": {},
   "outputs": [
    {
     "name": "stdout",
     "output_type": "stream",
     "text": [
      "id                          0\n",
      "belongs_to_collection    3521\n",
      "budget                      0\n",
      "genres                     16\n",
      "homepage                 2978\n",
      "imdb_id                     0\n",
      "original_language           0\n",
      "original_title              0\n",
      "overview                   14\n",
      "popularity                  0\n",
      "poster_path                 1\n",
      "production_companies      258\n",
      "production_countries      102\n",
      "release_date                1\n",
      "runtime                     4\n",
      "spoken_languages           42\n",
      "status                      2\n",
      "tagline                   863\n",
      "title                       3\n",
      "Keywords                  393\n",
      "cast                       13\n",
      "crew                       22\n",
      "dtype: int64\n"
     ]
    }
   ],
   "source": [
    "print (test_data.isnull().sum())"
   ]
  },
  {
   "cell_type": "code",
   "execution_count": 7,
   "metadata": {},
   "outputs": [],
   "source": [
    "# print (train_data.status.unique())\n",
    "# print (  train_data[train_data.status.isin(['Released', 'Rumored'])] )\n",
    "# print (len(train_data['homepage'].unique().tolist()))\n",
    "\n",
    "# print (len(train_data.tagline.unique().tolist()))\n",
    "# print (train_data['title'].unique())"
   ]
  },
  {
   "cell_type": "code",
   "execution_count": 8,
   "metadata": {},
   "outputs": [
    {
     "name": "stdout",
     "output_type": "stream",
     "text": [
      "id                    0\n",
      "budget                0\n",
      "genres                7\n",
      "original_language     0\n",
      "original_title        0\n",
      "popularity            0\n",
      "runtime               2\n",
      "spoken_languages     20\n",
      "title                 0\n",
      "revenue               0\n",
      "dtype: int64\n"
     ]
    }
   ],
   "source": [
    "drop_features = ['belongs_to_collection', 'homepage', 'tagline', 'production_companies',\n",
    "                 'production_countries', 'Keywords', 'imdb_id', 'status','cast','crew', 'poster_path',\n",
    "                'overview', 'release_date']\n",
    "train_data = train_data.drop(drop_features, axis=1)\n",
    "print (train_data.isnull().sum())"
   ]
  },
  {
   "cell_type": "code",
   "execution_count": 9,
   "metadata": {},
   "outputs": [
    {
     "name": "stdout",
     "output_type": "stream",
     "text": [
      "(3000, 10)\n",
      "(2975, 10)\n",
      "id                   0\n",
      "budget               0\n",
      "genres               0\n",
      "original_language    0\n",
      "original_title       0\n",
      "popularity           0\n",
      "runtime              0\n",
      "spoken_languages     0\n",
      "title                0\n",
      "revenue              0\n",
      "dtype: int64\n"
     ]
    }
   ],
   "source": [
    "# print (train_data.runtime.unique())\n",
    "# print (train_data.Keywords.unique())\n",
    "# print (len(train_data.production_companies.unique().tolist()))\n",
    "print (train_data.shape)\n",
    "train_data = train_data[pd.notnull(train_data['spoken_languages'])]\n",
    "# train_data = train_data[pd.notnull(train_data['crew'])]\n",
    "# train_data = train_data[pd.notnull(train_data['overview'])]\n",
    "train_data = train_data[pd.notnull(train_data['genres'])]\n",
    "train_data = train_data[pd.notnull(train_data['runtime'])]\n",
    "\n",
    "print (train_data.shape)\n",
    "print (train_data.isnull().sum())"
   ]
  },
  {
   "cell_type": "code",
   "execution_count": 10,
   "metadata": {},
   "outputs": [
    {
     "name": "stdout",
     "output_type": "stream",
     "text": [
      "id                    0\n",
      "budget                0\n",
      "genres               16\n",
      "original_language     0\n",
      "original_title        0\n",
      "popularity            0\n",
      "runtime               4\n",
      "spoken_languages     42\n",
      "title                 3\n",
      "dtype: int64\n"
     ]
    }
   ],
   "source": [
    "test_data = test_data.drop(drop_features, axis=1)\n",
    "print (test_data.isnull().sum())"
   ]
  },
  {
   "cell_type": "code",
   "execution_count": 11,
   "metadata": {},
   "outputs": [
    {
     "name": "stdout",
     "output_type": "stream",
     "text": [
      "A Nightmare on Elm Street                        5\n",
      "Arthur                                           2\n",
      "Beowulf                                          2\n",
      "Savages                                          2\n",
      "Bulletproof                                      2\n",
      "Gloria                                           2\n",
      "Wanted                                           2\n",
      "Endless Love                                     2\n",
      "Cinderella                                       2\n",
      "Life                                             2\n",
      "Clash of the Titans                              2\n",
      "Conan the Barbarian                              2\n",
      "Earth                                            2\n",
      "Godzilla                                         2\n",
      "Party Girl                                       2\n",
      "No Escape                                        2\n",
      "The Wave                                         2\n",
      "Psycho                                           2\n",
      "Carrie                                           2\n",
      "The Jungle Book                                  2\n",
      "Prom Night                                       2\n",
      "Taxi                                             2\n",
      "For Love or Money                                2\n",
      "Alive                                            2\n",
      "Three                                            2\n",
      "Julia                                            2\n",
      "Mutiny on the Bounty                             2\n",
      "Halloween                                        2\n",
      "Halloween II                                     2\n",
      "Night of the Living Dead                         2\n",
      "                                                ..\n",
      "Hero                                             1\n",
      "Dunkirk                                          1\n",
      "Paradise Now                                     1\n",
      "Spacehunter: Adventures in the Forbidden Zone    1\n",
      "Candyman                                         1\n",
      "Indru Netru Naalai                               1\n",
      "Monsters University                              1\n",
      "The Last Days on Mars                            1\n",
      "The Bride                                        1\n",
      "The Legend of the Lone Ranger                    1\n",
      "Baywatch                                         1\n",
      "Words and Pictures                               1\n",
      "Euphoria                                         1\n",
      "The Hangover Part II                             1\n",
      "The Black Stallion Returns                       1\n",
      "Ever After: A Cinderella Story                   1\n",
      "Stranger Than Fiction                            1\n",
      "High School Musical 2                            1\n",
      "Where the Boys Are '84                           1\n",
      "The Majestic                                     1\n",
      "The Puppet Masters                               1\n",
      "Wolfen                                           1\n",
      "Monster-in-Law                                   1\n",
      "Surf Ninjas                                      1\n",
      "North Country                                    1\n",
      "The Hunger Games                                 1\n",
      "The Mother                                       1\n",
      "The Butler                                       1\n",
      "Invaders from Mars                               1\n",
      "City Heat                                        1\n",
      "Name: title, Length: 4342, dtype: int64\n"
     ]
    }
   ],
   "source": [
    "# print (test_data.shape)\n",
    "# print (test_data.spoken_languages.value_counts())\n",
    "# test_data = test_data[pd.notnull(test_data['spoken_languages'])]\n",
    "# # test_data = test_data[pd.notnull(test_data['crew'])]\n",
    "# # test_data = test_data[pd.notnull(test_data['overview'])]\n",
    "# test_data = test_data[pd.notnull(test_data['genres'])]\n",
    "# test_data = test_data[pd.notnull(test_data['runtime'])]\n",
    "test_data['spoken_languages'] = test_data['spoken_languages'].fillna('English')\n",
    "test_data['genres'] = test_data['genres'].fillna('Drama')\n",
    "test_data['runtime'] = test_data['runtime'].fillna(100.0)\n",
    "test_data['title'] = test_data['title'].fillna('A Nightmare on Elm Street')\n",
    "\n",
    "print (test_data.title.value_counts())\n",
    "\n",
    "# print (test_data.shape)\n",
    "# print (test_data.isnull().sum())"
   ]
  },
  {
   "cell_type": "code",
   "execution_count": 12,
   "metadata": {},
   "outputs": [
    {
     "name": "stdout",
     "output_type": "stream",
     "text": [
      "401\n",
      "<class 'pandas.core.frame.DataFrame'>\n",
      "Int64Index: 2975 entries, 0 to 2999\n",
      "Data columns (total 10 columns):\n",
      "id                   2975 non-null int64\n",
      "budget               2975 non-null int64\n",
      "genres               2975 non-null object\n",
      "original_language    2975 non-null object\n",
      "original_title       2975 non-null object\n",
      "popularity           2975 non-null float64\n",
      "runtime              2975 non-null float64\n",
      "spoken_languages     2975 non-null object\n",
      "title                2975 non-null object\n",
      "revenue              2975 non-null int64\n",
      "dtypes: float64(2), int64(3), object(5)\n",
      "memory usage: 255.7+ KB\n",
      "None\n",
      "869\n"
     ]
    }
   ],
   "source": [
    "print (len(train_data.spoken_languages.unique().tolist()))\n",
    "print (train_data.info())\n",
    "print (len(train_data.genres.unique().tolist()))"
   ]
  },
  {
   "cell_type": "code",
   "execution_count": 13,
   "metadata": {},
   "outputs": [
    {
     "name": "stdout",
     "output_type": "stream",
     "text": [
      "id                   0\n",
      "budget               0\n",
      "genres               0\n",
      "original_language    0\n",
      "original_title       0\n",
      "popularity           0\n",
      "runtime              0\n",
      "spoken_languages     0\n",
      "title                0\n",
      "revenue              0\n",
      "dtype: int64\n",
      "0    693\n",
      "1    643\n",
      "2    390\n",
      "3    730\n",
      "4    588\n",
      "Name: genres, dtype: int64\n"
     ]
    }
   ],
   "source": [
    "from sklearn.preprocessing import LabelEncoder\n",
    "print (train_data.isnull().sum())\n",
    "label_encoder = LabelEncoder()\n",
    "train_data.genres = label_encoder.fit_transform(train_data.genres)\n",
    "train_data.original_language = label_encoder.fit_transform(train_data.original_language)\n",
    "train_data.spoken_languages = label_encoder.fit_transform(train_data.spoken_languages)\n",
    "train_data.original_title = label_encoder.fit_transform(train_data.original_title)\n",
    "train_data.title = label_encoder.fit_transform(train_data.title)\n",
    "print (train_data.genres.head())"
   ]
  },
  {
   "cell_type": "code",
   "execution_count": 14,
   "metadata": {},
   "outputs": [
    {
     "name": "stdout",
     "output_type": "stream",
     "text": [
      "<class 'pandas.core.frame.DataFrame'>\n",
      "Int64Index: 2975 entries, 0 to 2999\n",
      "Data columns (total 10 columns):\n",
      "id                   2975 non-null int64\n",
      "budget               2975 non-null int64\n",
      "genres               2975 non-null int64\n",
      "original_language    2975 non-null int64\n",
      "original_title       2975 non-null int64\n",
      "popularity           2975 non-null float64\n",
      "runtime              2975 non-null float64\n",
      "spoken_languages     2975 non-null int64\n",
      "title                2975 non-null int64\n",
      "revenue              2975 non-null int64\n",
      "dtypes: float64(2), int64(8)\n",
      "memory usage: 255.7 KB\n",
      "None\n"
     ]
    }
   ],
   "source": [
    "print (train_data.info())"
   ]
  },
  {
   "cell_type": "code",
   "execution_count": 15,
   "metadata": {},
   "outputs": [
    {
     "name": "stdout",
     "output_type": "stream",
     "text": [
      "id                   0\n",
      "budget               0\n",
      "genres               0\n",
      "original_language    0\n",
      "original_title       0\n",
      "popularity           0\n",
      "runtime              0\n",
      "spoken_languages     0\n",
      "title                0\n",
      "dtype: int64\n",
      "0    144\n",
      "1    555\n",
      "2    786\n",
      "3    387\n",
      "4    898\n",
      "Name: genres, dtype: int64\n"
     ]
    }
   ],
   "source": [
    "print (test_data.isnull().sum())\n",
    "\n",
    "test_data.genres = label_encoder.fit_transform(test_data.genres)\n",
    "test_data.original_language = label_encoder.fit_transform(test_data.original_language)\n",
    "test_data.spoken_languages = label_encoder.fit_transform(test_data.spoken_languages)\n",
    "test_data.original_title = label_encoder.fit_transform(test_data.original_title)\n",
    "test_data.title = label_encoder.fit_transform(test_data.title)\n",
    "print (test_data.genres.head())"
   ]
  },
  {
   "cell_type": "code",
   "execution_count": 16,
   "metadata": {},
   "outputs": [
    {
     "name": "stdout",
     "output_type": "stream",
     "text": [
      "id                   0\n",
      "budget               0\n",
      "genres               0\n",
      "original_language    0\n",
      "original_title       0\n",
      "popularity           0\n",
      "runtime              0\n",
      "spoken_languages     0\n",
      "title                0\n",
      "revenue              0\n",
      "dtype: int64\n"
     ]
    }
   ],
   "source": [
    "print (train_data.isnull().sum())"
   ]
  },
  {
   "cell_type": "code",
   "execution_count": 17,
   "metadata": {},
   "outputs": [
    {
     "name": "stdout",
     "output_type": "stream",
     "text": [
      "6821638296311170.0\n"
     ]
    },
    {
     "name": "stderr",
     "output_type": "stream",
     "text": [
      "/opt/conda/lib/python3.6/site-packages/sklearn/ensemble/forest.py:246: FutureWarning: The default value of n_estimators will change from 10 in version 0.20 to 100 in 0.22.\n",
      "  \"10 in version 0.20 to 100 in 0.22.\", FutureWarning)\n"
     ]
    }
   ],
   "source": [
    "from sklearn.ensemble import RandomForestRegressor\n",
    "from sklearn.model_selection import train_test_split\n",
    "from sklearn.metrics import mean_squared_error\n",
    "y = train_data['revenue']\n",
    "X = train_data.drop('revenue', axis=1)\n",
    "X_train, X_test, y_train, y_test = train_test_split(X, y, test_size=0.3, random_state=42)\n",
    "rf = RandomForestRegressor()\n",
    "rf.fit(X_train, y_train)\n",
    "validate_predicted = rf.predict(X_test)\n",
    "# print (predicted)\n",
    "print (mean_squared_error(y_test, validate_predicted))"
   ]
  },
  {
   "cell_type": "code",
   "execution_count": 18,
   "metadata": {},
   "outputs": [
    {
     "name": "stdout",
     "output_type": "stream",
     "text": [
      "     id   budget  genres  ...    runtime  spoken_languages  title\n",
      "0  3001        0     144  ...       90.0               294   2523\n",
      "1  3002    88000     555  ...       65.0               353    317\n",
      "2  3003        0     786  ...      100.0               353    164\n",
      "3  3004  6800000     387  ...      130.0               370   1666\n",
      "4  3005  2000000     898  ...       92.0               353   1678\n",
      "\n",
      "[5 rows x 9 columns]\n"
     ]
    }
   ],
   "source": [
    "print (test_data.head())"
   ]
  },
  {
   "cell_type": "code",
   "execution_count": 19,
   "metadata": {},
   "outputs": [
    {
     "name": "stdout",
     "output_type": "stream",
     "text": [
      "[1.42455165e+07 3.96500640e+06 2.59088099e+07 ... 1.92795038e+08\n",
      " 8.25648835e+07 8.30382647e+07]\n"
     ]
    }
   ],
   "source": [
    "test_predicted = rf.predict(test_data)\n",
    "print (test_predicted)"
   ]
  },
  {
   "cell_type": "code",
   "execution_count": 20,
   "metadata": {},
   "outputs": [
    {
     "name": "stdout",
     "output_type": "stream",
     "text": [
      "     id      revenue\n",
      "0  3001   14245516.5\n",
      "1  3002    3965006.4\n",
      "2  3003   25908809.9\n",
      "3  3004  114537049.4\n",
      "4  3005    7201170.9\n"
     ]
    }
   ],
   "source": [
    "submission = pd.DataFrame()\n",
    "submission['id'] = test_data['id']\n",
    "submission['revenue'] = test_predicted\n",
    "\n",
    "print (submission.head())\n",
    "submission.to_csv('submission_v1.csv', index=False)\n"
   ]
  },
  {
   "cell_type": "code",
   "execution_count": 21,
   "metadata": {},
   "outputs": [],
   "source": []
  }
 ],
 "metadata": {
  "kernelspec": {
   "display_name": "Python 3",
   "language": "python",
   "name": "python3"
  },
  "language_info": {
   "codemirror_mode": {
    "name": "ipython",
    "version": 3
   },
   "file_extension": ".py",
   "mimetype": "text/x-python",
   "name": "python",
   "nbconvert_exporter": "python",
   "pygments_lexer": "ipython3",
   "version": "3.6.4"
  }
 },
 "nbformat": 4,
 "nbformat_minor": 1
}
